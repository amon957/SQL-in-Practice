{
 "cells": [
  {
   "cell_type": "code",
   "execution_count": null,
   "id": "853b4f3a",
   "metadata": {},
   "outputs": [],
   "source": []
  },
  {
   "cell_type": "code",
   "execution_count": null,
   "id": "8de79426",
   "metadata": {},
   "outputs": [],
   "source": [
    "%load_ext sql"
   ]
  },
  {
   "cell_type": "code",
   "execution_count": null,
   "id": "51dc331c",
   "metadata": {},
   "outputs": [],
   "source": [
    "%sql sqlite:///PFSIN.db"
   ]
  },
  {
   "cell_type": "markdown",
   "id": "b0954727",
   "metadata": {},
   "source": [
    "### ER Diagram for the Properties for sale in Nairobi database\n",
    "<img src='ER_diagram.png'></img>"
   ]
  },
  {
   "cell_type": "markdown",
   "id": "fd021925",
   "metadata": {},
   "source": [
    "### How many properties in total are available for sale in Nairobi?"
   ]
  },
  {
   "cell_type": "code",
   "execution_count": null,
   "id": "0d889928",
   "metadata": {},
   "outputs": [],
   "source": [
    "%%sql"
   ]
  },
  {
   "cell_type": "markdown",
   "id": "5279481e",
   "metadata": {},
   "source": [
    "### How many properties are available in Muthaiga region?"
   ]
  },
  {
   "cell_type": "code",
   "execution_count": null,
   "id": "71952ad8",
   "metadata": {},
   "outputs": [],
   "source": [
    "%%sql"
   ]
  },
  {
   "cell_type": "markdown",
   "id": "80cc9356",
   "metadata": {},
   "source": [
    "### Retrieve detailed information including prices, region and amenities for each property"
   ]
  },
  {
   "cell_type": "code",
   "execution_count": null,
   "id": "0ff72ba5",
   "metadata": {},
   "outputs": [],
   "source": [
    "%%sql"
   ]
  },
  {
   "cell_type": "markdown",
   "id": "df303954",
   "metadata": {},
   "source": [
    "### What is the average price of properties in every region for each group of bedroom"
   ]
  },
  {
   "cell_type": "code",
   "execution_count": null,
   "id": "acc48c30",
   "metadata": {},
   "outputs": [],
   "source": [
    "%%sql"
   ]
  },
  {
   "cell_type": "markdown",
   "id": "dfcef0aa",
   "metadata": {},
   "source": [
    "### Which region has the highest number of 3 bedroom properties"
   ]
  },
  {
   "cell_type": "code",
   "execution_count": null,
   "id": "c44f53dc",
   "metadata": {},
   "outputs": [],
   "source": [
    "%%sql"
   ]
  },
  {
   "cell_type": "markdown",
   "id": "63a6d9d0",
   "metadata": {},
   "source": [
    "### Which region has the highest prices of 4 bedrooms on average"
   ]
  },
  {
   "cell_type": "code",
   "execution_count": null,
   "id": "cfcfe03b",
   "metadata": {},
   "outputs": [],
   "source": [
    "%%sql"
   ]
  },
  {
   "cell_type": "markdown",
   "id": "8a30c4c4",
   "metadata": {},
   "source": [
    "### Which regions has properties of 3 bedroom type and has 2 bathrooms? Include the number of properties available for each region"
   ]
  },
  {
   "cell_type": "code",
   "execution_count": null,
   "id": "4a9e0c95",
   "metadata": {},
   "outputs": [],
   "source": [
    "%%sql"
   ]
  },
  {
   "cell_type": "markdown",
   "id": "c85307e1",
   "metadata": {},
   "source": [
    "### How many properties meet the following criteria\n",
    "<p>\n",
    "<li>Should be in Karen region</li>\n",
    "<li>4 bedroom house</li>\n",
    "<li>Must have at least 3 amenities</li>\n",
    "<li>Cost less than 50,000,000</li>\n",
    "</p>"
   ]
  },
  {
   "cell_type": "code",
   "execution_count": null,
   "id": "9de09709",
   "metadata": {},
   "outputs": [],
   "source": [
    "%%sql"
   ]
  },
  {
   "cell_type": "markdown",
   "id": "ab80c6bc",
   "metadata": {},
   "source": [
    "<h4>A client is searching for a property in Nairobi with the following properties</h4>\n",
    "<p>\n",
    "    <li>3 or 4 bedroom house</li>\n",
    "    <li>Must have at least 3 bathrooms</li>\n",
    "    <li>Should have the following amenities: Borehole, Parking Bay and Fibre Internet</li>\n",
    "</p>\n",
    "<h4>The client has requested the following:</h4>\n",
    "<p>\n",
    "<ol>\n",
    "    <li>The list of available properties with name, region, number of bedrooms, number of bathrooms and xy location</li>\n",
    "    <li>Summary report that shows the number of properties available in every region that meet the above search criteria for each of the two bedroom types</li>\n",
    "    <li>This person is interested in visiting each region starting with the region with the highest number of properties. Create a list of regions giving priority number to each region. [1 being the highest priority]</li>\n",
    "</ol>\n",
    "</p>"
   ]
  },
  {
   "cell_type": "code",
   "execution_count": null,
   "id": "df89163c",
   "metadata": {},
   "outputs": [],
   "source": [
    "%%sql"
   ]
  }
 ],
 "metadata": {
  "kernelspec": {
   "display_name": "Python 3 (ipykernel)",
   "language": "python",
   "name": "python3"
  },
  "language_info": {
   "codemirror_mode": {
    "name": "ipython",
    "version": 3
   },
   "file_extension": ".py",
   "mimetype": "text/x-python",
   "name": "python",
   "nbconvert_exporter": "python",
   "pygments_lexer": "ipython3",
   "version": "3.11.5"
  }
 },
 "nbformat": 4,
 "nbformat_minor": 5
}
